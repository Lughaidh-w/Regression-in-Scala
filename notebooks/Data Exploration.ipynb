{
 "cells": [
  {
   "cell_type": "markdown",
   "id": "97773f7b-7b8f-45e1-a025-985f4dff6988",
   "metadata": {},
   "source": [
    "# Regression in Scala"
   ]
  },
  {
   "cell_type": "markdown",
   "id": "b5f749d2-4563-4b0b-b172-a7d989db08b7",
   "metadata": {},
   "source": [
    "<b>This project uses Scala 2.12 kernel in Jupyter.<br>\n",
    "<b>Regression is performed on a dataset of car models and attributes."
   ]
  },
  {
   "cell_type": "markdown",
   "id": "170f9795-6a82-4e86-8e8a-d69e767124a3",
   "metadata": {},
   "source": [
    "## Introduction"
   ]
  },
  {
   "cell_type": "markdown",
   "id": "b822d171-8178-4c3d-9a16-4d5e1709329d",
   "metadata": {},
   "source": [
    "<b>Disabling spark output"
   ]
  },
  {
   "cell_type": "code",
   "execution_count": 1,
   "id": "e5a4de0a-fcb6-48d9-b080-1f81b0649b53",
   "metadata": {},
   "outputs": [
    {
     "data": {
      "text/plain": [
       "\u001b[32mimport \u001b[39m\u001b[36m$ivy.$\u001b[39m\n",
       "\u001b[32mimport \u001b[39m\u001b[36morg.apache.log4j.{Level, Logger}\u001b[39m"
      ]
     },
     "execution_count": 1,
     "metadata": {},
     "output_type": "execute_result"
    }
   ],
   "source": [
    "import $ivy.`org.apache.spark::spark-sql:2.4.0`\n",
    "import org.apache.log4j.{Level, Logger}\n",
    "\n",
    "// Set the log level to ERROR (or any other desired log level)\n",
    "Logger.getLogger(\"org\").setLevel(Level.ERROR)\n",
    "Logger.getLogger(\"akka\").setLevel(Level.ERROR)\n"
   ]
  },
  {
   "cell_type": "code",
   "execution_count": 2,
   "id": "c072abdf-e5bb-44d6-bfe7-958ff43c3130",
   "metadata": {},
   "outputs": [
    {
     "data": {
      "text/html": [
       "Loading <code>spark-stubs</code>"
      ]
     },
     "metadata": {},
     "output_type": "display_data"
    },
    {
     "data": {
      "text/html": [
       "Getting spark JARs\n"
      ]
     },
     "metadata": {},
     "output_type": "display_data"
    },
    {
     "data": {
      "text/html": [
       "Creating SparkSession\n"
      ]
     },
     "metadata": {},
     "output_type": "display_data"
    },
    {
     "name": "stderr",
     "output_type": "stream",
     "text": [
      "Using Spark's default log4j profile: org/apache/spark/log4j-defaults.properties\n"
     ]
    },
    {
     "data": {
      "text/html": [
       "<a target=\"_blank\" href=\"http://37380db15b1a:4040\">Spark UI</a>"
      ]
     },
     "metadata": {},
     "output_type": "display_data"
    },
    {
     "data": {
      "text/plain": [
       "\u001b[32mimport \u001b[39m\u001b[36m$ivy.$\u001b[39m\n",
       "\u001b[32mimport \u001b[39m\u001b[36morg.apache.spark.sql._\u001b[39m\n",
       "\u001b[36mspark\u001b[39m: \u001b[32mSparkSession\u001b[39m = org.apache.spark.sql.SparkSession@7eb43cbd"
      ]
     },
     "execution_count": 2,
     "metadata": {},
     "output_type": "execute_result"
    }
   ],
   "source": [
    "import $ivy.`org.apache.spark::spark-sql:2.4.0`\n",
    "\n",
    "import org.apache.spark.sql._\n",
    "import org.apache.spark.sql.functions._\n",
    "\n",
    "val spark = {\n",
    "  NotebookSparkSession.builder()\n",
    "    .master(\"local[*]\")\n",
    "    .getOrCreate()\n",
    "}"
   ]
  },
  {
   "cell_type": "markdown",
   "id": "e14e2d77-199e-4419-8cf5-10438433b5f7",
   "metadata": {},
   "source": [
    "<b>Loading data"
   ]
  },
  {
   "cell_type": "code",
   "execution_count": 3,
   "id": "7f87ed67-869b-466c-804e-ef4cd7d25e87",
   "metadata": {},
   "outputs": [
    {
     "data": {
      "text/html": []
     },
     "metadata": {},
     "output_type": "display_data"
    },
    {
     "data": {
      "text/plain": [
       "\u001b[36mdataPath\u001b[39m: \u001b[32mString\u001b[39m = \u001b[32m\"../input/FuelConsumption (1).csv\"\u001b[39m\n",
       "\u001b[36mdf\u001b[39m: \u001b[32mDataFrame\u001b[39m = [Year: string, MAKE: string ... 8 more fields]"
      ]
     },
     "execution_count": 3,
     "metadata": {},
     "output_type": "execute_result"
    }
   ],
   "source": [
    "val dataPath = \"../input/FuelConsumption (1).csv\"\n",
    "val df: DataFrame = spark.read.option(\"header\", \"true\").csv(dataPath)"
   ]
  },
  {
   "cell_type": "markdown",
   "id": "36321440-4b45-4e28-86d8-bccf32f5a94a",
   "metadata": {},
   "source": [
    "<b>Dataframe is spark dataset."
   ]
  },
  {
   "cell_type": "code",
   "execution_count": 4,
   "id": "ba43e0dd-8928-4032-852a-73c2c522f6d5",
   "metadata": {},
   "outputs": [
    {
     "data": {
      "text/plain": [
       "\u001b[36mres4\u001b[39m: \u001b[32mClass\u001b[39m[\u001b[32mT\u001b[39m] = class org.apache.spark.sql.Dataset"
      ]
     },
     "execution_count": 4,
     "metadata": {},
     "output_type": "execute_result"
    }
   ],
   "source": [
    "df.getClass"
   ]
  },
  {
   "cell_type": "markdown",
   "id": "994b0a9a-149e-4329-b062-66bff912835f",
   "metadata": {},
   "source": [
    "## Data Exploration"
   ]
  },
  {
   "cell_type": "markdown",
   "id": "d220a900-c5e7-4360-891e-36ff58314482",
   "metadata": {},
   "source": [
    "### Attributes and descriptive statistics"
   ]
  },
  {
   "cell_type": "markdown",
   "id": "987a2f6e-f894-4585-b5d3-d1f32f6aff94",
   "metadata": {},
   "source": [
    "<b>In this section some basic Apache spark dataframe functions are shown."
   ]
  },
  {
   "cell_type": "code",
   "execution_count": 27,
   "id": "55019eb1-c75b-49ba-9e1b-120c232c304b",
   "metadata": {},
   "outputs": [
    {
     "name": "stdout",
     "output_type": "stream",
     "text": [
      "root\n",
      " |-- Year: string (nullable = true)\n",
      " |-- MAKE: string (nullable = true)\n",
      " |-- MODEL: string (nullable = true)\n",
      " |-- VEHICLE CLASS: string (nullable = true)\n",
      " |-- ENGINE SIZE: string (nullable = true)\n",
      " |-- CYLINDERS: string (nullable = true)\n",
      " |-- TRANSMISSION: string (nullable = true)\n",
      " |-- FUEL: string (nullable = true)\n",
      " |-- FUEL CONSUMPTION: string (nullable = true)\n",
      " |-- COEMISSIONS : string (nullable = true)\n",
      "\n"
     ]
    }
   ],
   "source": [
    "df.printSchema()"
   ]
  },
  {
   "cell_type": "code",
   "execution_count": 5,
   "id": "b225a3be-ba42-4267-82f1-b11422057370",
   "metadata": {},
   "outputs": [
    {
     "data": {
      "text/html": []
     },
     "metadata": {},
     "output_type": "display_data"
    },
    {
     "name": "stdout",
     "output_type": "stream",
     "text": [
      "+----+-----+------------------+--------------------+-----------+---------+------------+----+----------------+------------+\n",
      "|Year| MAKE|             MODEL|       VEHICLE CLASS|ENGINE SIZE|CYLINDERS|TRANSMISSION|FUEL|FUEL CONSUMPTION|COEMISSIONS |\n",
      "+----+-----+------------------+--------------------+-----------+---------+------------+----+----------------+------------+\n",
      "|2000|ACURA|             1.6EL|             COMPACT|        1.6|        4|          A4|   X|            10.5|         216|\n",
      "|2000|ACURA|             1.6EL|             COMPACT|        1.6|        4|          M5|   X|             9.8|         205|\n",
      "|2000|ACURA|             3.2TL|            MID-SIZE|        3.2|        6|         AS5|   Z|            13.7|         265|\n",
      "|2000|ACURA|             3.5RL|            MID-SIZE|        3.5|        6|          A4|   Z|              15|         301|\n",
      "|2000|ACURA|           INTEGRA|          SUBCOMPACT|        1.8|        4|          A4|   X|            11.4|         230|\n",
      "|2000|ACURA|           INTEGRA|          SUBCOMPACT|        1.8|        4|          M5|   X|            10.6|         219|\n",
      "|2000|ACURA|INTEGRA GSR/TYPE R|          SUBCOMPACT|        1.8|        4|          M5|   Z|            10.8|         223|\n",
      "|2000|ACURA|               NSX|          SUBCOMPACT|          3|        6|         AS4|   Z|            15.2|         306|\n",
      "|2000|ACURA|               NSX|          SUBCOMPACT|        3.2|        6|          M6|   Z|            15.4|         306|\n",
      "|2000| AUDI|                A4|             COMPACT|        1.8|        4|          A5|   Z|            12.9|         251|\n",
      "|2000| AUDI|                A4|             COMPACT|        1.8|        4|          M5|   Z|            11.1|         223|\n",
      "|2000| AUDI|                A4|             COMPACT|        2.8|        6|          A5|   Z|            14.6|         285|\n",
      "|2000| AUDI|                A4|             COMPACT|        2.8|        6|          M5|   Z|            13.2|         260|\n",
      "|2000| AUDI|        A4 QUATTRO|             COMPACT|        1.8|        4|          A5|   Z|            13.6|         267|\n",
      "|2000| AUDI|        A4 QUATTRO|             COMPACT|        1.8|        4|          M5|   Z|            12.1|         246|\n",
      "|2000| AUDI|        A4 QUATTRO|             COMPACT|        2.8|        6|          A5|   Z|            14.9|         292|\n",
      "|2000| AUDI|        A4 QUATTRO|             COMPACT|        2.8|        6|          M5|   Z|            14.3|         288|\n",
      "|2000| AUDI|                A6|            MID-SIZE|        2.8|        6|          A5|   Z|              15|         294|\n",
      "|2000| AUDI|  A6 AVANT QUATTRO|STATION WAGON - M...|        2.8|        6|          A5|   Z|            15.4|         306|\n",
      "|2000| AUDI|        A6 QUATTRO|            MID-SIZE|        2.7|        6|          A5|   Z|            15.2|         304|\n",
      "+----+-----+------------------+--------------------+-----------+---------+------------+----+----------------+------------+\n",
      "only showing top 20 rows\n",
      "\n"
     ]
    }
   ],
   "source": [
    "df.show()"
   ]
  },
  {
   "cell_type": "code",
   "execution_count": 6,
   "id": "c5d88c88-3979-4523-8e14-e617a693d6d5",
   "metadata": {},
   "outputs": [
    {
     "data": {
      "text/html": []
     },
     "metadata": {},
     "output_type": "display_data"
    },
    {
     "data": {
      "text/plain": [
       "\u001b[36mres6\u001b[39m: \u001b[32mArray\u001b[39m[\u001b[32mRow\u001b[39m] = \u001b[33mArray\u001b[39m(\n",
       "  [2000,ACURA,1.6EL,COMPACT,1.6,4,A4,X,10.5,216],\n",
       "  [2000,ACURA,1.6EL,COMPACT,1.6,4,M5,X,9.8,205],\n",
       "  [2000,ACURA,3.2TL,MID-SIZE,3.2,6,AS5,Z,13.7,265],\n",
       "  [2000,ACURA,3.5RL,MID-SIZE,3.5,6,A4,Z,15,301],\n",
       "  [2000,ACURA,INTEGRA,SUBCOMPACT,1.8,4,A4,X,11.4,230]\n",
       ")"
      ]
     },
     "execution_count": 6,
     "metadata": {},
     "output_type": "execute_result"
    }
   ],
   "source": [
    "df.head(5)"
   ]
  },
  {
   "cell_type": "code",
   "execution_count": 7,
   "id": "7bf9fed9-ca2d-4608-b727-d029f854e253",
   "metadata": {},
   "outputs": [
    {
     "data": {
      "text/plain": [
       "\u001b[36mres7\u001b[39m: \u001b[32mArray\u001b[39m[\u001b[32mString\u001b[39m] = \u001b[33mArray\u001b[39m(\n",
       "  \u001b[32m\"Year\"\u001b[39m,\n",
       "  \u001b[32m\"MAKE\"\u001b[39m,\n",
       "  \u001b[32m\"MODEL\"\u001b[39m,\n",
       "  \u001b[32m\"VEHICLE CLASS\"\u001b[39m,\n",
       "  \u001b[32m\"ENGINE SIZE\"\u001b[39m,\n",
       "  \u001b[32m\"CYLINDERS\"\u001b[39m,\n",
       "  \u001b[32m\"TRANSMISSION\"\u001b[39m,\n",
       "  \u001b[32m\"FUEL\"\u001b[39m,\n",
       "  \u001b[32m\"FUEL CONSUMPTION\"\u001b[39m,\n",
       "  \u001b[32m\"COEMISSIONS \"\u001b[39m\n",
       ")"
      ]
     },
     "execution_count": 7,
     "metadata": {},
     "output_type": "execute_result"
    }
   ],
   "source": [
    "df.columns"
   ]
  },
  {
   "cell_type": "code",
   "execution_count": 16,
   "id": "76503ea4-e602-4bfd-881c-e2dd7e4ad4dc",
   "metadata": {},
   "outputs": [
    {
     "data": {
      "text/plain": [
       "\u001b[36mres16\u001b[39m: \u001b[32mArray\u001b[39m[(\u001b[32mString\u001b[39m, \u001b[32mString\u001b[39m)] = \u001b[33mArray\u001b[39m(\n",
       "  (\u001b[32m\"Year\"\u001b[39m, \u001b[32m\"StringType\"\u001b[39m),\n",
       "  (\u001b[32m\"MAKE\"\u001b[39m, \u001b[32m\"StringType\"\u001b[39m),\n",
       "  (\u001b[32m\"MODEL\"\u001b[39m, \u001b[32m\"StringType\"\u001b[39m),\n",
       "  (\u001b[32m\"VEHICLE CLASS\"\u001b[39m, \u001b[32m\"StringType\"\u001b[39m),\n",
       "  (\u001b[32m\"ENGINE SIZE\"\u001b[39m, \u001b[32m\"StringType\"\u001b[39m),\n",
       "  (\u001b[32m\"CYLINDERS\"\u001b[39m, \u001b[32m\"StringType\"\u001b[39m),\n",
       "  (\u001b[32m\"TRANSMISSION\"\u001b[39m, \u001b[32m\"StringType\"\u001b[39m),\n",
       "  (\u001b[32m\"FUEL\"\u001b[39m, \u001b[32m\"StringType\"\u001b[39m),\n",
       "  (\u001b[32m\"FUEL CONSUMPTION\"\u001b[39m, \u001b[32m\"StringType\"\u001b[39m),\n",
       "  (\u001b[32m\"COEMISSIONS \"\u001b[39m, \u001b[32m\"StringType\"\u001b[39m)\n",
       ")"
      ]
     },
     "execution_count": 16,
     "metadata": {},
     "output_type": "execute_result"
    }
   ],
   "source": [
    "df.dtypes"
   ]
  },
  {
   "cell_type": "markdown",
   "id": "5cda2051-2b04-4548-9fba-f65371c291ea",
   "metadata": {},
   "source": [
    "<b>Length of data."
   ]
  },
  {
   "cell_type": "code",
   "execution_count": 9,
   "id": "b2bc3c71-7085-4e58-9cb6-343a1d0f4e0b",
   "metadata": {},
   "outputs": [
    {
     "data": {
      "text/html": []
     },
     "metadata": {},
     "output_type": "display_data"
    },
    {
     "data": {
      "text/html": []
     },
     "metadata": {},
     "output_type": "display_data"
    },
    {
     "data": {
      "text/plain": [
       "\u001b[36mres9\u001b[39m: \u001b[32mLong\u001b[39m = \u001b[32m639L\u001b[39m"
      ]
     },
     "execution_count": 9,
     "metadata": {},
     "output_type": "execute_result"
    }
   ],
   "source": [
    "df.count()"
   ]
  },
  {
   "cell_type": "markdown",
   "id": "e44e1865-0288-495b-b74c-0df70b72c27d",
   "metadata": {},
   "source": [
    "<b>Number of columns."
   ]
  },
  {
   "cell_type": "code",
   "execution_count": 10,
   "id": "b2e83d72-f1da-433e-8c69-4a5141595cd5",
   "metadata": {},
   "outputs": [
    {
     "data": {
      "text/plain": [
       "\u001b[36mres10\u001b[39m: \u001b[32mInt\u001b[39m = \u001b[32m10\u001b[39m"
      ]
     },
     "execution_count": 10,
     "metadata": {},
     "output_type": "execute_result"
    }
   ],
   "source": [
    "df.columns.length"
   ]
  },
  {
   "cell_type": "markdown",
   "id": "ba1f0d63-0888-48c2-a490-29dd444088b9",
   "metadata": {},
   "source": [
    "<b>Descriptive statistics."
   ]
  },
  {
   "cell_type": "code",
   "execution_count": 11,
   "id": "2c2550d9-dcc2-4f82-8ce4-f90591ab2ba8",
   "metadata": {},
   "outputs": [
    {
     "data": {
      "text/html": []
     },
     "metadata": {},
     "output_type": "display_data"
    },
    {
     "data": {
      "text/html": []
     },
     "metadata": {},
     "output_type": "display_data"
    },
    {
     "name": "stdout",
     "output_type": "stream",
     "text": [
      "+-------+------+-----+-----+---------------+------------------+------------------+------------+----+------------------+-----------------+\n",
      "|summary|  Year| MAKE|MODEL|  VEHICLE CLASS|       ENGINE SIZE|         CYLINDERS|TRANSMISSION|FUEL|  FUEL CONSUMPTION|     COEMISSIONS |\n",
      "+-------+------+-----+-----+---------------+------------------+------------------+------------+----+------------------+-----------------+\n",
      "|  count|   639|  639|  639|            639|               639|               639|         639| 639|               639|              639|\n",
      "|   mean|2000.0| null|626.0|           null|3.2657276995305202| 5.805946791862285|        null|null|14.713615023474212|296.8090766823161|\n",
      "| stddev|   0.0| null|  0.0|           null|1.2310121715436397|1.6255876208780364|        null|null| 3.307043767251958|65.50417808775087|\n",
      "|    min|  2000|ACURA|1.6EL|        COMPACT|                 1|                10|          A3|   D|                10|              104|\n",
      "|    max|  2000|VOLVO|   Z8|VAN - PASSENGER|                 8|                 8|          M6|   Z|               9.9|              582|\n",
      "+-------+------+-----+-----+---------------+------------------+------------------+------------+----+------------------+-----------------+\n",
      "\n"
     ]
    }
   ],
   "source": [
    "df.describe().show()"
   ]
  },
  {
   "cell_type": "markdown",
   "id": "aaee9875-646e-40e6-bf2e-a6a1f527a868",
   "metadata": {},
   "source": [
    "<b>Null values."
   ]
  },
  {
   "cell_type": "code",
   "execution_count": 21,
   "id": "a7cf2562-5567-4077-bcda-8b9efcce3c0c",
   "metadata": {},
   "outputs": [
    {
     "data": {
      "text/html": []
     },
     "metadata": {},
     "output_type": "display_data"
    },
    {
     "data": {
      "text/html": []
     },
     "metadata": {},
     "output_type": "display_data"
    },
    {
     "name": "stdout",
     "output_type": "stream",
     "text": [
      "+----+----+-----+-------------+-----------+---------+------------+----+----------------+------------+\n",
      "|Year|MAKE|MODEL|VEHICLE CLASS|ENGINE SIZE|CYLINDERS|TRANSMISSION|FUEL|FUEL CONSUMPTION|COEMISSIONS |\n",
      "+----+----+-----+-------------+-----------+---------+------------+----+----------------+------------+\n",
      "|   0|   0|    0|            0|          0|        0|           0|   0|               0|           0|\n",
      "+----+----+-----+-------------+-----------+---------+------------+----+----------------+------------+\n",
      "\n"
     ]
    },
    {
     "data": {
      "text/plain": [
       "\u001b[36mnullCounts\u001b[39m: \u001b[32mDataFrame\u001b[39m = [Year: bigint, MAKE: bigint ... 8 more fields]"
      ]
     },
     "execution_count": 21,
     "metadata": {},
     "output_type": "execute_result"
    }
   ],
   "source": [
    "val nullCounts = df.select(df.columns.map(c => sum(col(c).isNull.cast(\"int\")).alias(c)): _*)\n",
    "\n",
    "nullCounts.show()"
   ]
  },
  {
   "cell_type": "markdown",
   "id": "8c513a38-8a05-42b6-81b9-769ec2f1814d",
   "metadata": {},
   "source": [
    "### Feature Exploration | Year"
   ]
  },
  {
   "cell_type": "markdown",
   "id": "16a85f25-2036-477a-a8ff-c5f6341c10f2",
   "metadata": {},
   "source": [
    "<b>Year is one value for each entry."
   ]
  },
  {
   "cell_type": "code",
   "execution_count": 19,
   "id": "3d38e12a-c93e-4b36-aa15-eba32ce29c28",
   "metadata": {},
   "outputs": [
    {
     "data": {
      "text/html": []
     },
     "metadata": {},
     "output_type": "display_data"
    },
    {
     "data": {
      "text/html": []
     },
     "metadata": {},
     "output_type": "display_data"
    },
    {
     "data": {
      "text/html": []
     },
     "metadata": {},
     "output_type": "display_data"
    },
    {
     "data": {
      "text/html": []
     },
     "metadata": {},
     "output_type": "display_data"
    },
    {
     "data": {
      "text/html": []
     },
     "metadata": {},
     "output_type": "display_data"
    },
    {
     "data": {
      "text/html": []
     },
     "metadata": {},
     "output_type": "display_data"
    },
    {
     "name": "stdout",
     "output_type": "stream",
     "text": [
      "+----+\n",
      "|Year|\n",
      "+----+\n",
      "|2000|\n",
      "+----+\n",
      "\n"
     ]
    }
   ],
   "source": [
    "df.select(\"Year\").distinct().show()"
   ]
  },
  {
   "cell_type": "code",
   "execution_count": 30,
   "id": "ce7b9584-b85b-4b8c-acd4-126a6ee37123",
   "metadata": {},
   "outputs": [
    {
     "name": "stdout",
     "output_type": "stream",
     "text": [
      "root\n",
      " |-- MAKE: string (nullable = true)\n",
      " |-- MODEL: string (nullable = true)\n",
      " |-- VEHICLE CLASS: string (nullable = true)\n",
      " |-- ENGINE SIZE: string (nullable = true)\n",
      " |-- CYLINDERS: string (nullable = true)\n",
      " |-- TRANSMISSION: string (nullable = true)\n",
      " |-- FUEL: string (nullable = true)\n",
      " |-- FUEL CONSUMPTION: string (nullable = true)\n",
      " |-- COEMISSIONS : string (nullable = true)\n",
      "\n"
     ]
    }
   ],
   "source": [
    "df.drop(df(\"Year\")).printSchema()"
   ]
  },
  {
   "cell_type": "code",
   "execution_count": 29,
   "id": "775aa8ff-7779-4836-9ecd-bebca63238b1",
   "metadata": {},
   "outputs": [
    {
     "data": {
      "text/html": []
     },
     "metadata": {},
     "output_type": "display_data"
    },
    {
     "name": "stdout",
     "output_type": "stream",
     "text": [
      "+----+-----+------------------+--------------------+-----------+---------+------------+----+----------------+------------+\n",
      "|Year| MAKE|             MODEL|       VEHICLE CLASS|ENGINE SIZE|CYLINDERS|TRANSMISSION|FUEL|FUEL CONSUMPTION|COEMISSIONS |\n",
      "+----+-----+------------------+--------------------+-----------+---------+------------+----+----------------+------------+\n",
      "|2000|ACURA|             1.6EL|             COMPACT|        1.6|        4|          A4|   X|            10.5|         216|\n",
      "|2000|ACURA|             1.6EL|             COMPACT|        1.6|        4|          M5|   X|             9.8|         205|\n",
      "|2000|ACURA|             3.2TL|            MID-SIZE|        3.2|        6|         AS5|   Z|            13.7|         265|\n",
      "|2000|ACURA|             3.5RL|            MID-SIZE|        3.5|        6|          A4|   Z|              15|         301|\n",
      "|2000|ACURA|           INTEGRA|          SUBCOMPACT|        1.8|        4|          A4|   X|            11.4|         230|\n",
      "|2000|ACURA|           INTEGRA|          SUBCOMPACT|        1.8|        4|          M5|   X|            10.6|         219|\n",
      "|2000|ACURA|INTEGRA GSR/TYPE R|          SUBCOMPACT|        1.8|        4|          M5|   Z|            10.8|         223|\n",
      "|2000|ACURA|               NSX|          SUBCOMPACT|          3|        6|         AS4|   Z|            15.2|         306|\n",
      "|2000|ACURA|               NSX|          SUBCOMPACT|        3.2|        6|          M6|   Z|            15.4|         306|\n",
      "|2000| AUDI|                A4|             COMPACT|        1.8|        4|          A5|   Z|            12.9|         251|\n",
      "|2000| AUDI|                A4|             COMPACT|        1.8|        4|          M5|   Z|            11.1|         223|\n",
      "|2000| AUDI|                A4|             COMPACT|        2.8|        6|          A5|   Z|            14.6|         285|\n",
      "|2000| AUDI|                A4|             COMPACT|        2.8|        6|          M5|   Z|            13.2|         260|\n",
      "|2000| AUDI|        A4 QUATTRO|             COMPACT|        1.8|        4|          A5|   Z|            13.6|         267|\n",
      "|2000| AUDI|        A4 QUATTRO|             COMPACT|        1.8|        4|          M5|   Z|            12.1|         246|\n",
      "|2000| AUDI|        A4 QUATTRO|             COMPACT|        2.8|        6|          A5|   Z|            14.9|         292|\n",
      "|2000| AUDI|        A4 QUATTRO|             COMPACT|        2.8|        6|          M5|   Z|            14.3|         288|\n",
      "|2000| AUDI|                A6|            MID-SIZE|        2.8|        6|          A5|   Z|              15|         294|\n",
      "|2000| AUDI|  A6 AVANT QUATTRO|STATION WAGON - M...|        2.8|        6|          A5|   Z|            15.4|         306|\n",
      "|2000| AUDI|        A6 QUATTRO|            MID-SIZE|        2.7|        6|          A5|   Z|            15.2|         304|\n",
      "+----+-----+------------------+--------------------+-----------+---------+------------+----+----------------+------------+\n",
      "only showing top 20 rows\n",
      "\n"
     ]
    }
   ],
   "source": [
    "df.show()"
   ]
  },
  {
   "cell_type": "code",
   "execution_count": null,
   "id": "4eda633c-561f-404c-bf0e-009fe618b5be",
   "metadata": {},
   "outputs": [],
   "source": []
  },
  {
   "cell_type": "code",
   "execution_count": null,
   "id": "c52dd502-1997-409e-8364-bb59d434ffe7",
   "metadata": {},
   "outputs": [],
   "source": []
  },
  {
   "cell_type": "code",
   "execution_count": null,
   "id": "92087157-dfd2-43dc-8650-7841cc757d70",
   "metadata": {},
   "outputs": [],
   "source": []
  },
  {
   "cell_type": "code",
   "execution_count": null,
   "id": "38c277f1-4165-45fb-a1d4-55d03641c181",
   "metadata": {},
   "outputs": [],
   "source": []
  },
  {
   "cell_type": "code",
   "execution_count": null,
   "id": "44e859d8-07f5-4673-9b3c-a882388e4996",
   "metadata": {},
   "outputs": [],
   "source": [
    "val sampledDF = df.sample(0.1)\n",
    "sampledDF.show()"
   ]
  },
  {
   "cell_type": "code",
   "execution_count": null,
   "id": "e579826f-22bd-477f-b75b-fe7071316430",
   "metadata": {},
   "outputs": [],
   "source": []
  },
  {
   "cell_type": "code",
   "execution_count": null,
   "id": "7822ec7f-f9f5-47b8-b0c4-09dc80f1c57b",
   "metadata": {},
   "outputs": [],
   "source": []
  },
  {
   "cell_type": "code",
   "execution_count": null,
   "id": "b30894fe-443d-44c4-adba-07ca8307751b",
   "metadata": {},
   "outputs": [],
   "source": []
  },
  {
   "cell_type": "markdown",
   "id": "cdbaf433-e6fb-4881-85a1-9a5019643b38",
   "metadata": {},
   "source": [
    "### Data preparation"
   ]
  },
  {
   "cell_type": "code",
   "execution_count": null,
   "id": "c96b4502-ef02-4193-9f90-11debf02bcc6",
   "metadata": {},
   "outputs": [],
   "source": [
    "import org.apache.spark.sql.functions.col\n",
    "\n",
    "// Assuming df is your DataFrame\n",
    "val dfWithCasts = df\n",
    "  .withColumn(\"Year\", col(\"Year\").cast(\"integer\"))\n",
    "  .withColumn(\"ENGINE SIZE\", col(\"ENGINE SIZE\").cast(\"float\"))\n",
    "  .withColumn(\"CYLINDERS\", col(\"CYLINDERS\").cast(\"integer\"))\n",
    "// Similarly, cast other numerical columns to the appropriate data types\n",
    "\n",
    "// Now, you can run describe() to get descriptive statistics\n",
    "val summary = dfWithCasts.describe()\n",
    "\n",
    "// Show the summary statistics\n",
    "summary.show()\n"
   ]
  }
 ],
 "metadata": {
  "kernelspec": {
   "display_name": "Scala 2.12",
   "language": "scala",
   "name": "scala212"
  },
  "language_info": {
   "codemirror_mode": "text/x-scala",
   "file_extension": ".sc",
   "mimetype": "text/x-scala",
   "name": "scala",
   "nbconvert_exporter": "script",
   "version": "2.12.18"
  }
 },
 "nbformat": 4,
 "nbformat_minor": 5
}
